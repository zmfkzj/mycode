{
 "cells": [
  {
   "cell_type": "code",
   "execution_count": 10,
   "metadata": {},
   "outputs": [
    {
     "name": "stdout",
     "output_type": "stream",
     "text": [
      "/home/tm/Code/darknet\n",
      "/home/tm/Code/darknet\r\n"
     ]
    }
   ],
   "source": [
    "%cd ~/Code/darknet\n",
    "!pwd"
   ]
  },
  {
   "cell_type": "code",
   "execution_count": 17,
   "metadata": {},
   "outputs": [],
   "source": [
    "import cv2\n",
    "import numpy as np\n",
    "import pandas as pd\n",
    "import os\n",
    "import random as rd\n",
    "from tqdm import tqdm\n",
    "from PIL import Image, ImageFont, ImageDraw\n",
    "from matplotlib import pyplot as plt \n",
    "\n",
    "rd.seed(31)\n",
    "\n",
    "def drawbbs(img, label, bbox, gt=False, fontscale=1, thick=1, color=(255,0,0)):\n",
    "    '''\n",
    "    bbox = (left, top, right, bottom)\n",
    "    '''\n",
    "    assert gt in [False, 'dot', 'solid'], 'gt must be False:bool,\\'dot\\' or \\'solid\\''\n",
    "    bbox = list(map(int,bbox))\n",
    "    if gt:\n",
    "        RoundRectangle(img, (bbox[0], bbox[1]), (bbox[2], bbox[3]), color, thick, linestyle=gt)\n",
    "    else:\n",
    "        cv2.rectangle(img, (bbox[0], bbox[1]), (bbox[2], bbox[3]), color, thick)\n",
    "\n",
    "    fontpath = \"/usr/share/fonts/truetype/nanum/NanumGothic.ttf\"     \n",
    "    font = ImageFont.truetype(fontpath, 300)\n",
    "    img_pil = Image.fromarray(img)\n",
    "    draw = ImageDraw.Draw(img_pil)\n",
    "    w, h = draw.textsize(label, font=font)\n",
    "    text_y = bbox[1] - 10\n",
    "    if text_y<0: text_y=0\n",
    "    draw.text((bbox[0], text_y), label, font = font, fill = (0,0,0))\n",
    "    img = np.array(img_pil)\n",
    "    plt.imshow(img)\n",
    "    plt.show\n",
    "    \n",
    "    # (w,h), _ = cv2.getTextSize(label, cv2.FONT_HERSHEY_DUPLEX,fontscale,thick)\n",
    "    # text_y = bbox[1]\n",
    "    # if (bbox[1]-h)<0:\n",
    "    #     text_y = bbox[1]+h\n",
    "    # cv2.putText(img, label, (bbox[0], text_y), cv2.FONT_HERSHEY_DUPLEX,fontscale,(0,0,0),thickness=thick,bottomLeftOrigin=False)\n",
    "\n",
    "    cv2.rectangle(img,(bbox[0], text_y), (bbox[0]+w,text_y+10), color,-1)\n",
    "    cv2.rectangle(img,(bbox[0], text_y), (bbox[0]+w,text_y+10), color,thick)\n",
    "    return img\n",
    "\n",
    "def RoundRectangle(img, topleft, bottomright, color, thick, linestyle='dot'):\n",
    "    assert linestyle in ['dot', 'solid'], 'linestyle must be \\'dot\\' or \\'solid\\''\n",
    "    height, width, _ = img.shape\n",
    "    b_h = int((bottomright[1]-topleft[1])/2)\n",
    "    b_w = int((bottomright[0]-topleft[0])/2)\n",
    "\n",
    "    border_radius = int(max([width, height])/30.0)\n",
    "    r_x = border_radius\n",
    "    r_y = border_radius\n",
    "    if border_radius > b_h:\n",
    "        r_y = b_h\n",
    "    if border_radius > b_w:\n",
    "        r_x = b_w\n",
    "\n",
    "    if linestyle=='solid':\n",
    "        drline = cv2.line\n",
    "        drellipsis = cv2.ellipse\n",
    "    elif linestyle=='dot':\n",
    "        drline = dotline\n",
    "        drellipsis = dotellipse\n",
    "\n",
    "    drline(img, topleft, (bottomright[0]-r_x, topleft[1]), color, thick)#top\n",
    "    drline(img, (topleft[0]+r_x,bottomright[1]), (bottomright[0]-r_x, bottomright[1]), color, thick)#bottom\n",
    "    drline(img, topleft, (topleft[0], bottomright[1]-r_y), color, thick)#left\n",
    "    drline(img, (bottomright[0],topleft[1]+r_y), (bottomright[0],bottomright[1]-r_y), color, thick)#right\n",
    "    drellipsis(img, (bottomright[0]-r_x, topleft[1]+r_y), (r_x, r_y), 0, 0, -90, color, thick)#top-right\n",
    "    drellipsis(img, (topleft[0]+r_x, bottomright[1]-r_y), (r_x, r_y), 0, 90, 180, color, thick)#bottom-left\n",
    "    drellipsis(img, (bottomright[0]-r_x, bottomright[1]-r_y), (r_x, r_y), 0, 0, 90, color, thick)#bottom-right\n",
    "\n",
    "def dotellipse(img, center, r, rotation, start, end, color, thick):\n",
    "    dr = int((end-start)/4.5)\n",
    "\n",
    "    start1 = start\n",
    "    while np.sign(end-start1)==np.sign(dr):\n",
    "        end1 = start1+dr\n",
    "        if np.abs(end-start1)< np.abs(dr):\n",
    "            end1=end\n",
    "        cv2.ellipse(img, center, r, rotation, start1, end1, color, thick)\n",
    "        start1 += 2*dr\n",
    "\n",
    "def dotline(img, topleft, bottomright, color, thick):\n",
    "    a = np.sqrt((bottomright[0]-topleft[0])**2+(bottomright[1]-topleft[1])**2)\n",
    "    if a==0:\n",
    "        return\n",
    "    dotgap = max(img.shape[:2])/50\n",
    "    b = a/dotgap\n",
    "    dx = int((bottomright[0]-topleft[0])/b)\n",
    "    dy = int((bottomright[1]-topleft[1])/b)\n",
    "\n",
    "    x1, y1 = topleft\n",
    "    while (np.sign(bottomright[0]-x1)==np.sign(dx)) & (np.sign(bottomright[1]-y1)==np.sign(dy)):\n",
    "        end_x = x1+dx\n",
    "        end_y = y1+dy\n",
    "\n",
    "        if np.abs(bottomright[0]-end_x)<np.abs(dx):\n",
    "            end_x = bottomright[0]\n",
    "        if np.abs(bottomright[1]-end_y)<np.abs(dy):\n",
    "            end_y = bottomright[1]\n",
    "            \n",
    "        cv2.line(img, (x1, y1), (end_x, end_y), color, thick)\n",
    "        x1 += 2*dx\n",
    "        y1 += 2*dy\n"
   ]
  },
  {
   "cell_type": "code",
   "execution_count": 19,
   "metadata": {},
   "outputs": [
    {
     "name": "stderr",
     "output_type": "stream",
     "text": [
      "\r",
      "  0%|          | 0/6 [00:00<?, ?it/s]"
     ]
    },
    {
     "name": "stdout",
     "output_type": "stream",
     "text": [
      "{'Crater': (71, 75, 16), 'UBX in Crater': (31, 69, 118), 'UBX': (229, 211, 104)}\n"
     ]
    },
    {
     "name": "stderr",
     "output_type": "stream",
     "text": [
      "100%|██████████| 6/6 [00:06<00:00,  1.07s/it]\n"
     ]
    },
    {
     "data": {
      "image/png": "[encoded data removed]",
      "text/plain": [
       "<Figure size 432x288 with 1 Axes>"
      ]
     },
     "metadata": {
      "needs_background": "light"
     },
     "output_type": "display_data"
    }
   ],
   "source": [
    "df = pd.read_csv('data/test_perObj_yolov4_final_It0.5_ct0.25_200506-1649.csv', encoding='euc-kr')\n",
    "gt_bboxes = df.loc[df['id'].notna(), ['img', 'class', 'gt_left', 'gt_top', 'gt_right', 'gt_bottom']].set_index('img')\n",
    "pred_bboxes = df.loc[df['conf'].notna(), ['img', 'class', 'pred_left', 'pred_top', 'pred_right', 'pred_bottom']].set_index('img')\n",
    "df_class = df['class'].unique()\n",
    "class_count = len(df_class)\n",
    "color = {}\n",
    "if not os.path.isdir('data/output'):\n",
    "    os.mkdir('data/output')\n",
    "for idx, cls in enumerate(df_class):\n",
    "    color[cls] = (rd.randint(0,256),rd.randint(0,256),rd.randint(0,256))\n",
    "\n",
    "print(color)\n",
    "imgs = df['img'].unique()\n",
    "\n",
    "\n",
    "for img_path in tqdm(imgs):\n",
    "    img = cv2.imread(img_path)\n",
    "    fontscale = max(img.shape[:2])/6000\n",
    "    thick = int(fontscale*3)\n",
    "    if thick <= 0: thick=1\n",
    "\n",
    "    for _, val in pred_bboxes.loc[img_path].iterrows():\n",
    "        img = drawbbs(img, val[0], val.iloc[1:].tolist(),gt=False, fontscale=fontscale, thick=thick, color=color[val[0]])\n",
    "    cv2.imwrite(f'data/output/{os.path.basename(img_path)}', img)\n"
   ]
  },
  {
   "cell_type": "code",
   "execution_count": 9,
   "metadata": {},
   "outputs": [
    {
     "name": "stdout",
     "output_type": "stream",
     "text": [
      "/home/tm/Code/darknet\n",
      "/home/tm/Code/darknet\r\n"
     ]
    }
   ],
   "source": []
  },
  {
   "cell_type": "code",
   "execution_count": null,
   "metadata": {},
   "outputs": [],
   "source": []
  }
 ],
 "metadata": {
  "kernelspec": {
   "display_name": "Python 3.8.1 64-bit ('yolov3': conda)",
   "language": "python",
   "name": "python38164bityolov3condab7af20fccd6a4e4b931b9374c3294d45"
  },
  "language_info": {
   "codemirror_mode": {
    "name": "ipython",
    "version": 3
   },
   "file_extension": ".py",
   "mimetype": "text/x-python",
   "name": "python",
   "nbconvert_exporter": "python",
   "pygments_lexer": "ipython3",
   "version": "3.8.2"
  }
 },
 "nbformat": 4,
 "nbformat_minor": 4
}
